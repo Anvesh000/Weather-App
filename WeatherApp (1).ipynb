{
  "nbformat": 4,
  "nbformat_minor": 0,
  "metadata": {
    "colab": {
      "provenance": []
    },
    "kernelspec": {
      "name": "python3",
      "display_name": "Python 3"
    },
    "language_info": {
      "name": "python"
    }
  },
  "cells": [
    {
      "cell_type": "markdown",
      "source": [
        "2.Weather App:"
      ],
      "metadata": {
        "id": "jdEdSxml-blU"
      }
    },
    {
      "cell_type": "code",
      "source": [
        "import requests\n",
        "\n",
        "def get_weather(city_name, api_key):\n",
        "    url = f\"http://api.openweathermap.org/data/2.5/weather?q={city_name}&appid={api_key}&units=metric\"\n",
        "    response = requests.get(url)\n",
        "    data = response.json()\n",
        "    return data\n",
        "\n",
        "def display_weather(weather_data):\n",
        "    if weather_data[\"cod\"] == 200:\n",
        "        city = weather_data[\"name\"]\n",
        "        weather = weather_data[\"weather\"][0][\"description\"]\n",
        "        temperature = weather_data[\"main\"][\"temp\"]\n",
        "        humidity = weather_data[\"main\"][\"humidity\"]\n",
        "        wind_speed = weather_data[\"wind\"][\"speed\"]\n",
        "        print(f\"Weather in {city}:\")\n",
        "        print(f\"Description: {weather}\")\n",
        "        print(f\"Temperature: {temperature}°C\")\n",
        "        print(f\"Humidity: {humidity}%\")\n",
        "        print(f\"Wind Speed: {wind_speed} m/s\")\n",
        "    else:\n",
        "        print(\"City not found. Please try again.\")\n",
        "\n",
        "def main():\n",
        "    api_key = \"241a25c853f5734e0c69830fabede9fc\"\n",
        "    city_name = input(\"Enter city name: \")\n",
        "    weather_data = get_weather(city_name, api_key)\n",
        "    display_weather(weather_data)\n",
        "\n",
        "if __name__ == \"__main__\":\n",
        "    main()"
      ],
      "metadata": {
        "colab": {
          "base_uri": "https://localhost:8080/"
        },
        "id": "njKWHKBh-c12",
        "outputId": "1dba7fe1-8078-4354-bcd1-f39df2bc5067"
      },
      "execution_count": 1,
      "outputs": [
        {
          "output_type": "stream",
          "name": "stdout",
          "text": [
            "Enter city name: bangalore\n",
            "Weather in Bengaluru:\n",
            "Description: overcast clouds\n",
            "Temperature: 33°C\n",
            "Humidity: 26%\n",
            "Wind Speed: 0.45 m/s\n"
          ]
        }
      ]
    }
  ]
}